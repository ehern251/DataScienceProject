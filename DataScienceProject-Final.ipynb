{
 "cells": [
  {
   "cell_type": "code",
   "execution_count": 1,
   "metadata": {},
   "outputs": [],
   "source": [
    "import numpy as np\n",
    "import pandas as pd\n",
    "from sklearn.linear_model import LogisticRegression\n",
    "from sklearn.cluster import KMeans\n",
    "from sklearn.linear_model import LinearRegression\n",
    "from sklearn.tree import DecisionTreeClassifier\n",
    "from sklearn.ensemble import RandomForestClassifier\n",
    "from sklearn.ensemble import RandomForestRegressor\n",
    "from sklearn import preprocessing\n",
    "from sklearn.neighbors import KNeighborsClassifier\n",
    "from sklearn.tree import DecisionTreeClassifier\n",
    "from sklearn.model_selection import train_test_split\n",
    "from sklearn.metrics import accuracy_score\n",
    "from sklearn.preprocessing import LabelEncoder, StandardScaler, OneHotEncoder\n",
    "from sklearn.compose import ColumnTransformer\n",
    "from sklearn.model_selection import cross_val_score\n",
    "from sklearn import metrics\n",
    "import matplotlib.pyplot as plt"
   ]
  },
  {
   "cell_type": "code",
   "execution_count": 2,
   "metadata": {},
   "outputs": [],
   "source": [
    "df_train = pd.read_csv('D:/Users/ehern/Desktop/CS 4661 Data Science/Project/healthcare/train_data.csv')\n",
    "df_test = pd.read_csv('D:/Users/ehern/Desktop/CS 4661 Data Science/Project/healthcare/test_data.csv')"
   ]
  },
  {
   "cell_type": "code",
   "execution_count": 3,
   "metadata": {},
   "outputs": [
    {
     "data": {
      "text/html": [
       "<div>\n",
       "<style scoped>\n",
       "    .dataframe tbody tr th:only-of-type {\n",
       "        vertical-align: middle;\n",
       "    }\n",
       "\n",
       "    .dataframe tbody tr th {\n",
       "        vertical-align: top;\n",
       "    }\n",
       "\n",
       "    .dataframe thead th {\n",
       "        text-align: right;\n",
       "    }\n",
       "</style>\n",
       "<table border=\"1\" class=\"dataframe\">\n",
       "  <thead>\n",
       "    <tr style=\"text-align: right;\">\n",
       "      <th></th>\n",
       "      <th>case_id</th>\n",
       "      <th>Hospital_code</th>\n",
       "      <th>Hospital_type_code</th>\n",
       "      <th>City_Code_Hospital</th>\n",
       "      <th>Hospital_region_code</th>\n",
       "      <th>Available Extra Rooms in Hospital</th>\n",
       "      <th>Department</th>\n",
       "      <th>Ward_Type</th>\n",
       "      <th>Ward_Facility_Code</th>\n",
       "      <th>Bed Grade</th>\n",
       "      <th>patientid</th>\n",
       "      <th>City_Code_Patient</th>\n",
       "      <th>Type of Admission</th>\n",
       "      <th>Severity of Illness</th>\n",
       "      <th>Visitors with Patient</th>\n",
       "      <th>Age</th>\n",
       "      <th>Admission_Deposit</th>\n",
       "      <th>Stay</th>\n",
       "    </tr>\n",
       "  </thead>\n",
       "  <tbody>\n",
       "    <tr>\n",
       "      <th>0</th>\n",
       "      <td>1</td>\n",
       "      <td>8</td>\n",
       "      <td>c</td>\n",
       "      <td>3</td>\n",
       "      <td>Z</td>\n",
       "      <td>3</td>\n",
       "      <td>radiotherapy</td>\n",
       "      <td>R</td>\n",
       "      <td>F</td>\n",
       "      <td>2.0</td>\n",
       "      <td>31397</td>\n",
       "      <td>7.0</td>\n",
       "      <td>Emergency</td>\n",
       "      <td>Extreme</td>\n",
       "      <td>2</td>\n",
       "      <td>51-60</td>\n",
       "      <td>4911.0</td>\n",
       "      <td>0-10</td>\n",
       "    </tr>\n",
       "    <tr>\n",
       "      <th>1</th>\n",
       "      <td>2</td>\n",
       "      <td>2</td>\n",
       "      <td>c</td>\n",
       "      <td>5</td>\n",
       "      <td>Z</td>\n",
       "      <td>2</td>\n",
       "      <td>radiotherapy</td>\n",
       "      <td>S</td>\n",
       "      <td>F</td>\n",
       "      <td>2.0</td>\n",
       "      <td>31397</td>\n",
       "      <td>7.0</td>\n",
       "      <td>Trauma</td>\n",
       "      <td>Extreme</td>\n",
       "      <td>2</td>\n",
       "      <td>51-60</td>\n",
       "      <td>5954.0</td>\n",
       "      <td>41-50</td>\n",
       "    </tr>\n",
       "    <tr>\n",
       "      <th>2</th>\n",
       "      <td>3</td>\n",
       "      <td>10</td>\n",
       "      <td>e</td>\n",
       "      <td>1</td>\n",
       "      <td>X</td>\n",
       "      <td>2</td>\n",
       "      <td>anesthesia</td>\n",
       "      <td>S</td>\n",
       "      <td>E</td>\n",
       "      <td>2.0</td>\n",
       "      <td>31397</td>\n",
       "      <td>7.0</td>\n",
       "      <td>Trauma</td>\n",
       "      <td>Extreme</td>\n",
       "      <td>2</td>\n",
       "      <td>51-60</td>\n",
       "      <td>4745.0</td>\n",
       "      <td>31-40</td>\n",
       "    </tr>\n",
       "    <tr>\n",
       "      <th>3</th>\n",
       "      <td>4</td>\n",
       "      <td>26</td>\n",
       "      <td>b</td>\n",
       "      <td>2</td>\n",
       "      <td>Y</td>\n",
       "      <td>2</td>\n",
       "      <td>radiotherapy</td>\n",
       "      <td>R</td>\n",
       "      <td>D</td>\n",
       "      <td>2.0</td>\n",
       "      <td>31397</td>\n",
       "      <td>7.0</td>\n",
       "      <td>Trauma</td>\n",
       "      <td>Extreme</td>\n",
       "      <td>2</td>\n",
       "      <td>51-60</td>\n",
       "      <td>7272.0</td>\n",
       "      <td>41-50</td>\n",
       "    </tr>\n",
       "    <tr>\n",
       "      <th>4</th>\n",
       "      <td>5</td>\n",
       "      <td>26</td>\n",
       "      <td>b</td>\n",
       "      <td>2</td>\n",
       "      <td>Y</td>\n",
       "      <td>2</td>\n",
       "      <td>radiotherapy</td>\n",
       "      <td>S</td>\n",
       "      <td>D</td>\n",
       "      <td>2.0</td>\n",
       "      <td>31397</td>\n",
       "      <td>7.0</td>\n",
       "      <td>Trauma</td>\n",
       "      <td>Extreme</td>\n",
       "      <td>2</td>\n",
       "      <td>51-60</td>\n",
       "      <td>5558.0</td>\n",
       "      <td>41-50</td>\n",
       "    </tr>\n",
       "  </tbody>\n",
       "</table>\n",
       "</div>"
      ],
      "text/plain": [
       "   case_id  Hospital_code Hospital_type_code  City_Code_Hospital  \\\n",
       "0        1              8                  c                   3   \n",
       "1        2              2                  c                   5   \n",
       "2        3             10                  e                   1   \n",
       "3        4             26                  b                   2   \n",
       "4        5             26                  b                   2   \n",
       "\n",
       "  Hospital_region_code  Available Extra Rooms in Hospital    Department  \\\n",
       "0                    Z                                  3  radiotherapy   \n",
       "1                    Z                                  2  radiotherapy   \n",
       "2                    X                                  2    anesthesia   \n",
       "3                    Y                                  2  radiotherapy   \n",
       "4                    Y                                  2  radiotherapy   \n",
       "\n",
       "  Ward_Type Ward_Facility_Code  Bed Grade  patientid  City_Code_Patient  \\\n",
       "0         R                  F        2.0      31397                7.0   \n",
       "1         S                  F        2.0      31397                7.0   \n",
       "2         S                  E        2.0      31397                7.0   \n",
       "3         R                  D        2.0      31397                7.0   \n",
       "4         S                  D        2.0      31397                7.0   \n",
       "\n",
       "  Type of Admission Severity of Illness  Visitors with Patient    Age  \\\n",
       "0         Emergency             Extreme                      2  51-60   \n",
       "1            Trauma             Extreme                      2  51-60   \n",
       "2            Trauma             Extreme                      2  51-60   \n",
       "3            Trauma             Extreme                      2  51-60   \n",
       "4            Trauma             Extreme                      2  51-60   \n",
       "\n",
       "   Admission_Deposit   Stay  \n",
       "0             4911.0   0-10  \n",
       "1             5954.0  41-50  \n",
       "2             4745.0  31-40  \n",
       "3             7272.0  41-50  \n",
       "4             5558.0  41-50  "
      ]
     },
     "execution_count": 3,
     "metadata": {},
     "output_type": "execute_result"
    }
   ],
   "source": [
    "df_train.head()"
   ]
  },
  {
   "cell_type": "code",
   "execution_count": 4,
   "metadata": {},
   "outputs": [
    {
     "data": {
      "text/html": [
       "<div>\n",
       "<style scoped>\n",
       "    .dataframe tbody tr th:only-of-type {\n",
       "        vertical-align: middle;\n",
       "    }\n",
       "\n",
       "    .dataframe tbody tr th {\n",
       "        vertical-align: top;\n",
       "    }\n",
       "\n",
       "    .dataframe thead th {\n",
       "        text-align: right;\n",
       "    }\n",
       "</style>\n",
       "<table border=\"1\" class=\"dataframe\">\n",
       "  <thead>\n",
       "    <tr style=\"text-align: right;\">\n",
       "      <th></th>\n",
       "      <th>case_id</th>\n",
       "      <th>Hospital_code</th>\n",
       "      <th>Hospital_type_code</th>\n",
       "      <th>City_Code_Hospital</th>\n",
       "      <th>Hospital_region_code</th>\n",
       "      <th>Available Extra Rooms in Hospital</th>\n",
       "      <th>Department</th>\n",
       "      <th>Ward_Type</th>\n",
       "      <th>Ward_Facility_Code</th>\n",
       "      <th>Bed Grade</th>\n",
       "      <th>patientid</th>\n",
       "      <th>City_Code_Patient</th>\n",
       "      <th>Type of Admission</th>\n",
       "      <th>Severity of Illness</th>\n",
       "      <th>Visitors with Patient</th>\n",
       "      <th>Age</th>\n",
       "      <th>Admission_Deposit</th>\n",
       "    </tr>\n",
       "  </thead>\n",
       "  <tbody>\n",
       "    <tr>\n",
       "      <th>0</th>\n",
       "      <td>318439</td>\n",
       "      <td>21</td>\n",
       "      <td>c</td>\n",
       "      <td>3</td>\n",
       "      <td>Z</td>\n",
       "      <td>3</td>\n",
       "      <td>gynecology</td>\n",
       "      <td>S</td>\n",
       "      <td>A</td>\n",
       "      <td>2.0</td>\n",
       "      <td>17006</td>\n",
       "      <td>2.0</td>\n",
       "      <td>Emergency</td>\n",
       "      <td>Moderate</td>\n",
       "      <td>2</td>\n",
       "      <td>71-80</td>\n",
       "      <td>3095.0</td>\n",
       "    </tr>\n",
       "    <tr>\n",
       "      <th>1</th>\n",
       "      <td>318440</td>\n",
       "      <td>29</td>\n",
       "      <td>a</td>\n",
       "      <td>4</td>\n",
       "      <td>X</td>\n",
       "      <td>2</td>\n",
       "      <td>gynecology</td>\n",
       "      <td>S</td>\n",
       "      <td>F</td>\n",
       "      <td>2.0</td>\n",
       "      <td>17006</td>\n",
       "      <td>2.0</td>\n",
       "      <td>Trauma</td>\n",
       "      <td>Moderate</td>\n",
       "      <td>4</td>\n",
       "      <td>71-80</td>\n",
       "      <td>4018.0</td>\n",
       "    </tr>\n",
       "    <tr>\n",
       "      <th>2</th>\n",
       "      <td>318441</td>\n",
       "      <td>26</td>\n",
       "      <td>b</td>\n",
       "      <td>2</td>\n",
       "      <td>Y</td>\n",
       "      <td>3</td>\n",
       "      <td>gynecology</td>\n",
       "      <td>Q</td>\n",
       "      <td>D</td>\n",
       "      <td>4.0</td>\n",
       "      <td>17006</td>\n",
       "      <td>2.0</td>\n",
       "      <td>Emergency</td>\n",
       "      <td>Moderate</td>\n",
       "      <td>3</td>\n",
       "      <td>71-80</td>\n",
       "      <td>4492.0</td>\n",
       "    </tr>\n",
       "    <tr>\n",
       "      <th>3</th>\n",
       "      <td>318442</td>\n",
       "      <td>6</td>\n",
       "      <td>a</td>\n",
       "      <td>6</td>\n",
       "      <td>X</td>\n",
       "      <td>3</td>\n",
       "      <td>gynecology</td>\n",
       "      <td>Q</td>\n",
       "      <td>F</td>\n",
       "      <td>2.0</td>\n",
       "      <td>17006</td>\n",
       "      <td>2.0</td>\n",
       "      <td>Trauma</td>\n",
       "      <td>Moderate</td>\n",
       "      <td>3</td>\n",
       "      <td>71-80</td>\n",
       "      <td>4173.0</td>\n",
       "    </tr>\n",
       "    <tr>\n",
       "      <th>4</th>\n",
       "      <td>318443</td>\n",
       "      <td>28</td>\n",
       "      <td>b</td>\n",
       "      <td>11</td>\n",
       "      <td>X</td>\n",
       "      <td>2</td>\n",
       "      <td>gynecology</td>\n",
       "      <td>R</td>\n",
       "      <td>F</td>\n",
       "      <td>2.0</td>\n",
       "      <td>17006</td>\n",
       "      <td>2.0</td>\n",
       "      <td>Trauma</td>\n",
       "      <td>Moderate</td>\n",
       "      <td>4</td>\n",
       "      <td>71-80</td>\n",
       "      <td>4161.0</td>\n",
       "    </tr>\n",
       "  </tbody>\n",
       "</table>\n",
       "</div>"
      ],
      "text/plain": [
       "   case_id  Hospital_code Hospital_type_code  City_Code_Hospital  \\\n",
       "0   318439             21                  c                   3   \n",
       "1   318440             29                  a                   4   \n",
       "2   318441             26                  b                   2   \n",
       "3   318442              6                  a                   6   \n",
       "4   318443             28                  b                  11   \n",
       "\n",
       "  Hospital_region_code  Available Extra Rooms in Hospital  Department  \\\n",
       "0                    Z                                  3  gynecology   \n",
       "1                    X                                  2  gynecology   \n",
       "2                    Y                                  3  gynecology   \n",
       "3                    X                                  3  gynecology   \n",
       "4                    X                                  2  gynecology   \n",
       "\n",
       "  Ward_Type Ward_Facility_Code  Bed Grade  patientid  City_Code_Patient  \\\n",
       "0         S                  A        2.0      17006                2.0   \n",
       "1         S                  F        2.0      17006                2.0   \n",
       "2         Q                  D        4.0      17006                2.0   \n",
       "3         Q                  F        2.0      17006                2.0   \n",
       "4         R                  F        2.0      17006                2.0   \n",
       "\n",
       "  Type of Admission Severity of Illness  Visitors with Patient    Age  \\\n",
       "0         Emergency            Moderate                      2  71-80   \n",
       "1            Trauma            Moderate                      4  71-80   \n",
       "2         Emergency            Moderate                      3  71-80   \n",
       "3            Trauma            Moderate                      3  71-80   \n",
       "4            Trauma            Moderate                      4  71-80   \n",
       "\n",
       "   Admission_Deposit  \n",
       "0             3095.0  \n",
       "1             4018.0  \n",
       "2             4492.0  \n",
       "3             4173.0  \n",
       "4             4161.0  "
      ]
     },
     "execution_count": 4,
     "metadata": {},
     "output_type": "execute_result"
    }
   ],
   "source": [
    "df_test.head()"
   ]
  },
  {
   "cell_type": "code",
   "execution_count": 5,
   "metadata": {},
   "outputs": [],
   "source": [
    "df_train = pd.concat([df_train,pd.get_dummies(df_train['Department'], \n",
    "            prefix='Department')], axis=1).drop(['Department'],axis=1)\n",
    "df_train.reset_index(drop=True, inplace=True)\n",
    "\n",
    "df_train = pd.concat([df_train,pd.get_dummies(df_train['Type of Admission'], \n",
    "                prefix='Admission')], axis=1).drop(['Type of Admission'],axis=1)\n",
    "df_train.reset_index(drop=True, inplace=True)"
   ]
  },
  {
   "cell_type": "code",
   "execution_count": 6,
   "metadata": {},
   "outputs": [],
   "source": [
    "def normalize(df):\n",
    "    \n",
    "  labelencoder = LabelEncoder()\n",
    "\n",
    "  df['Bed Grade'] = labelencoder.fit_transform(df['Bed Grade'])\n",
    "\n",
    "  df['City_Code_Patient'] = labelencoder.fit_transform(df['City_Code_Patient'])\n",
    "\n",
    "  df['Admission_Deposit'] = labelencoder.fit_transform(df['Admission_Deposit'])\n",
    "\n",
    "  hrc = df['Hospital_region_code'].unique()\n",
    "  new_hrc = dict(zip(hrc, range(len(hrc))))\n",
    "  df['Hospital_region_code'].replace(new_hrc, inplace=True)\n",
    "\n",
    "  ward = df['Ward_Type'].unique()\n",
    "  new_ward = dict(zip(ward, range(len(ward))))\n",
    "  df['Ward_Type'].replace(new_ward, inplace=True)\n",
    "\n",
    "  wfc = df['Ward_Facility_Code'].unique()\n",
    "  new_wfc = dict(zip(wfc, range(len(wfc))))\n",
    "  df['Ward_Facility_Code'].replace(new_wfc, inplace=True)\n",
    "\n",
    "  soi = df['Severity of Illness'].unique()\n",
    "  new_soi = dict(zip(soi, range(len(soi))))\n",
    "  df['Severity of Illness'].replace(new_soi, inplace=True)\n",
    "\n",
    "  age = df['Age'].unique()\n",
    "  new_age = dict(zip(age, range(len(age))))\n",
    "  df['Age'].replace(new_age, inplace=True)\n",
    "\n",
    "  htc = df['Hospital_type_code'].unique()\n",
    "  new_htc = dict(zip(htc, range(len(htc))))\n",
    "  df['Hospital_type_code'].replace(new_htc, inplace=True)"
   ]
  },
  {
   "cell_type": "code",
   "execution_count": 7,
   "metadata": {},
   "outputs": [],
   "source": [
    "normalize(df_train)\n",
    "normalize(df_test)"
   ]
  },
  {
   "cell_type": "code",
   "execution_count": 8,
   "metadata": {},
   "outputs": [],
   "source": [
    "stay_list = df_train['Stay'].unique()\n",
    "stay_dict = dict(zip(stay_list, range(len(stay_list))))\n",
    "df_train['Stay'].replace(stay_dict, inplace=True)"
   ]
  },
  {
   "cell_type": "code",
   "execution_count": 9,
   "metadata": {},
   "outputs": [
    {
     "data": {
      "text/html": [
       "<div>\n",
       "<style scoped>\n",
       "    .dataframe tbody tr th:only-of-type {\n",
       "        vertical-align: middle;\n",
       "    }\n",
       "\n",
       "    .dataframe tbody tr th {\n",
       "        vertical-align: top;\n",
       "    }\n",
       "\n",
       "    .dataframe thead th {\n",
       "        text-align: right;\n",
       "    }\n",
       "</style>\n",
       "<table border=\"1\" class=\"dataframe\">\n",
       "  <thead>\n",
       "    <tr style=\"text-align: right;\">\n",
       "      <th></th>\n",
       "      <th>case_id</th>\n",
       "      <th>Hospital_code</th>\n",
       "      <th>Hospital_type_code</th>\n",
       "      <th>City_Code_Hospital</th>\n",
       "      <th>Hospital_region_code</th>\n",
       "      <th>Available Extra Rooms in Hospital</th>\n",
       "      <th>Ward_Type</th>\n",
       "      <th>Ward_Facility_Code</th>\n",
       "      <th>Bed Grade</th>\n",
       "      <th>patientid</th>\n",
       "      <th>...</th>\n",
       "      <th>Admission_Deposit</th>\n",
       "      <th>Stay</th>\n",
       "      <th>Department_TB &amp; Chest disease</th>\n",
       "      <th>Department_anesthesia</th>\n",
       "      <th>Department_gynecology</th>\n",
       "      <th>Department_radiotherapy</th>\n",
       "      <th>Department_surgery</th>\n",
       "      <th>Admission_Emergency</th>\n",
       "      <th>Admission_Trauma</th>\n",
       "      <th>Admission_Urgent</th>\n",
       "    </tr>\n",
       "  </thead>\n",
       "  <tbody>\n",
       "    <tr>\n",
       "      <th>0</th>\n",
       "      <td>1</td>\n",
       "      <td>8</td>\n",
       "      <td>0</td>\n",
       "      <td>3</td>\n",
       "      <td>0</td>\n",
       "      <td>3</td>\n",
       "      <td>0</td>\n",
       "      <td>0</td>\n",
       "      <td>1</td>\n",
       "      <td>31397</td>\n",
       "      <td>...</td>\n",
       "      <td>2954</td>\n",
       "      <td>0</td>\n",
       "      <td>0</td>\n",
       "      <td>0</td>\n",
       "      <td>0</td>\n",
       "      <td>1</td>\n",
       "      <td>0</td>\n",
       "      <td>1</td>\n",
       "      <td>0</td>\n",
       "      <td>0</td>\n",
       "    </tr>\n",
       "    <tr>\n",
       "      <th>1</th>\n",
       "      <td>2</td>\n",
       "      <td>2</td>\n",
       "      <td>0</td>\n",
       "      <td>5</td>\n",
       "      <td>0</td>\n",
       "      <td>2</td>\n",
       "      <td>1</td>\n",
       "      <td>0</td>\n",
       "      <td>1</td>\n",
       "      <td>31397</td>\n",
       "      <td>...</td>\n",
       "      <td>3997</td>\n",
       "      <td>1</td>\n",
       "      <td>0</td>\n",
       "      <td>0</td>\n",
       "      <td>0</td>\n",
       "      <td>1</td>\n",
       "      <td>0</td>\n",
       "      <td>0</td>\n",
       "      <td>1</td>\n",
       "      <td>0</td>\n",
       "    </tr>\n",
       "    <tr>\n",
       "      <th>2</th>\n",
       "      <td>3</td>\n",
       "      <td>10</td>\n",
       "      <td>1</td>\n",
       "      <td>1</td>\n",
       "      <td>1</td>\n",
       "      <td>2</td>\n",
       "      <td>1</td>\n",
       "      <td>1</td>\n",
       "      <td>1</td>\n",
       "      <td>31397</td>\n",
       "      <td>...</td>\n",
       "      <td>2788</td>\n",
       "      <td>2</td>\n",
       "      <td>0</td>\n",
       "      <td>1</td>\n",
       "      <td>0</td>\n",
       "      <td>0</td>\n",
       "      <td>0</td>\n",
       "      <td>0</td>\n",
       "      <td>1</td>\n",
       "      <td>0</td>\n",
       "    </tr>\n",
       "    <tr>\n",
       "      <th>3</th>\n",
       "      <td>4</td>\n",
       "      <td>26</td>\n",
       "      <td>2</td>\n",
       "      <td>2</td>\n",
       "      <td>2</td>\n",
       "      <td>2</td>\n",
       "      <td>0</td>\n",
       "      <td>2</td>\n",
       "      <td>1</td>\n",
       "      <td>31397</td>\n",
       "      <td>...</td>\n",
       "      <td>5315</td>\n",
       "      <td>1</td>\n",
       "      <td>0</td>\n",
       "      <td>0</td>\n",
       "      <td>0</td>\n",
       "      <td>1</td>\n",
       "      <td>0</td>\n",
       "      <td>0</td>\n",
       "      <td>1</td>\n",
       "      <td>0</td>\n",
       "    </tr>\n",
       "    <tr>\n",
       "      <th>4</th>\n",
       "      <td>5</td>\n",
       "      <td>26</td>\n",
       "      <td>2</td>\n",
       "      <td>2</td>\n",
       "      <td>2</td>\n",
       "      <td>2</td>\n",
       "      <td>1</td>\n",
       "      <td>2</td>\n",
       "      <td>1</td>\n",
       "      <td>31397</td>\n",
       "      <td>...</td>\n",
       "      <td>3601</td>\n",
       "      <td>1</td>\n",
       "      <td>0</td>\n",
       "      <td>0</td>\n",
       "      <td>0</td>\n",
       "      <td>1</td>\n",
       "      <td>0</td>\n",
       "      <td>0</td>\n",
       "      <td>1</td>\n",
       "      <td>0</td>\n",
       "    </tr>\n",
       "  </tbody>\n",
       "</table>\n",
       "<p>5 rows × 24 columns</p>\n",
       "</div>"
      ],
      "text/plain": [
       "   case_id  Hospital_code  Hospital_type_code  City_Code_Hospital  \\\n",
       "0        1              8                   0                   3   \n",
       "1        2              2                   0                   5   \n",
       "2        3             10                   1                   1   \n",
       "3        4             26                   2                   2   \n",
       "4        5             26                   2                   2   \n",
       "\n",
       "   Hospital_region_code  Available Extra Rooms in Hospital  Ward_Type  \\\n",
       "0                     0                                  3          0   \n",
       "1                     0                                  2          1   \n",
       "2                     1                                  2          1   \n",
       "3                     2                                  2          0   \n",
       "4                     2                                  2          1   \n",
       "\n",
       "   Ward_Facility_Code  Bed Grade  patientid  ...  Admission_Deposit  Stay  \\\n",
       "0                   0          1      31397  ...               2954     0   \n",
       "1                   0          1      31397  ...               3997     1   \n",
       "2                   1          1      31397  ...               2788     2   \n",
       "3                   2          1      31397  ...               5315     1   \n",
       "4                   2          1      31397  ...               3601     1   \n",
       "\n",
       "   Department_TB & Chest disease  Department_anesthesia  \\\n",
       "0                              0                      0   \n",
       "1                              0                      0   \n",
       "2                              0                      1   \n",
       "3                              0                      0   \n",
       "4                              0                      0   \n",
       "\n",
       "   Department_gynecology  Department_radiotherapy  Department_surgery  \\\n",
       "0                      0                        1                   0   \n",
       "1                      0                        1                   0   \n",
       "2                      0                        0                   0   \n",
       "3                      0                        1                   0   \n",
       "4                      0                        1                   0   \n",
       "\n",
       "   Admission_Emergency  Admission_Trauma  Admission_Urgent  \n",
       "0                    1                 0                 0  \n",
       "1                    0                 1                 0  \n",
       "2                    0                 1                 0  \n",
       "3                    0                 1                 0  \n",
       "4                    0                 1                 0  \n",
       "\n",
       "[5 rows x 24 columns]"
      ]
     },
     "execution_count": 9,
     "metadata": {},
     "output_type": "execute_result"
    }
   ],
   "source": [
    "df_train.head()"
   ]
  },
  {
   "cell_type": "code",
   "execution_count": 10,
   "metadata": {
    "scrolled": true
   },
   "outputs": [
    {
     "data": {
      "text/plain": [
       "case_id                              int64\n",
       "Hospital_code                        int64\n",
       "Hospital_type_code                   int64\n",
       "City_Code_Hospital                   int64\n",
       "Hospital_region_code                 int64\n",
       "Available Extra Rooms in Hospital    int64\n",
       "Ward_Type                            int64\n",
       "Ward_Facility_Code                   int64\n",
       "Bed Grade                            int64\n",
       "patientid                            int64\n",
       "City_Code_Patient                    int64\n",
       "Severity of Illness                  int64\n",
       "Visitors with Patient                int64\n",
       "Age                                  int64\n",
       "Admission_Deposit                    int64\n",
       "Stay                                 int64\n",
       "Department_TB & Chest disease        uint8\n",
       "Department_anesthesia                uint8\n",
       "Department_gynecology                uint8\n",
       "Department_radiotherapy              uint8\n",
       "Department_surgery                   uint8\n",
       "Admission_Emergency                  uint8\n",
       "Admission_Trauma                     uint8\n",
       "Admission_Urgent                     uint8\n",
       "dtype: object"
      ]
     },
     "execution_count": 10,
     "metadata": {},
     "output_type": "execute_result"
    }
   ],
   "source": [
    "df_train.dtypes"
   ]
  },
  {
   "cell_type": "code",
   "execution_count": 11,
   "metadata": {},
   "outputs": [],
   "source": [
    "features = [\"Hospital_code\", \"Hospital_type_code\", \"City_Code_Hospital\", \"Hospital_region_code\", \"Available Extra Rooms in Hospital\", \"Ward_Type\", \"Ward_Facility_Code\", \"Bed Grade\", \"City_Code_Patient\", \"Severity of Illness\", \"Visitors with Patient\", \"Age\", \"Admission_Deposit\", \"Department_TB & Chest disease\", \"Department_anesthesia\", \"Department_gynecology\", \"Department_radiotherapy\", \"Department_surgery\", \"Admission_Emergency\", \"Admission_Trauma\", \"Admission_Urgent\"]"
   ]
  },
  {
   "cell_type": "code",
   "execution_count": 12,
   "metadata": {},
   "outputs": [
    {
     "data": {
      "text/html": [
       "<div>\n",
       "<style scoped>\n",
       "    .dataframe tbody tr th:only-of-type {\n",
       "        vertical-align: middle;\n",
       "    }\n",
       "\n",
       "    .dataframe tbody tr th {\n",
       "        vertical-align: top;\n",
       "    }\n",
       "\n",
       "    .dataframe thead th {\n",
       "        text-align: right;\n",
       "    }\n",
       "</style>\n",
       "<table border=\"1\" class=\"dataframe\">\n",
       "  <thead>\n",
       "    <tr style=\"text-align: right;\">\n",
       "      <th></th>\n",
       "      <th>Hospital_code</th>\n",
       "      <th>Hospital_type_code</th>\n",
       "      <th>City_Code_Hospital</th>\n",
       "      <th>Hospital_region_code</th>\n",
       "      <th>Available Extra Rooms in Hospital</th>\n",
       "      <th>Ward_Type</th>\n",
       "      <th>Ward_Facility_Code</th>\n",
       "      <th>Bed Grade</th>\n",
       "      <th>City_Code_Patient</th>\n",
       "      <th>Severity of Illness</th>\n",
       "      <th>...</th>\n",
       "      <th>Age</th>\n",
       "      <th>Admission_Deposit</th>\n",
       "      <th>Department_TB &amp; Chest disease</th>\n",
       "      <th>Department_anesthesia</th>\n",
       "      <th>Department_gynecology</th>\n",
       "      <th>Department_radiotherapy</th>\n",
       "      <th>Department_surgery</th>\n",
       "      <th>Admission_Emergency</th>\n",
       "      <th>Admission_Trauma</th>\n",
       "      <th>Admission_Urgent</th>\n",
       "    </tr>\n",
       "  </thead>\n",
       "  <tbody>\n",
       "    <tr>\n",
       "      <th>0</th>\n",
       "      <td>8</td>\n",
       "      <td>0</td>\n",
       "      <td>3</td>\n",
       "      <td>0</td>\n",
       "      <td>3</td>\n",
       "      <td>0</td>\n",
       "      <td>0</td>\n",
       "      <td>1</td>\n",
       "      <td>6</td>\n",
       "      <td>0</td>\n",
       "      <td>...</td>\n",
       "      <td>0</td>\n",
       "      <td>2954</td>\n",
       "      <td>0</td>\n",
       "      <td>0</td>\n",
       "      <td>0</td>\n",
       "      <td>1</td>\n",
       "      <td>0</td>\n",
       "      <td>1</td>\n",
       "      <td>0</td>\n",
       "      <td>0</td>\n",
       "    </tr>\n",
       "    <tr>\n",
       "      <th>1</th>\n",
       "      <td>2</td>\n",
       "      <td>0</td>\n",
       "      <td>5</td>\n",
       "      <td>0</td>\n",
       "      <td>2</td>\n",
       "      <td>1</td>\n",
       "      <td>0</td>\n",
       "      <td>1</td>\n",
       "      <td>6</td>\n",
       "      <td>0</td>\n",
       "      <td>...</td>\n",
       "      <td>0</td>\n",
       "      <td>3997</td>\n",
       "      <td>0</td>\n",
       "      <td>0</td>\n",
       "      <td>0</td>\n",
       "      <td>1</td>\n",
       "      <td>0</td>\n",
       "      <td>0</td>\n",
       "      <td>1</td>\n",
       "      <td>0</td>\n",
       "    </tr>\n",
       "    <tr>\n",
       "      <th>2</th>\n",
       "      <td>10</td>\n",
       "      <td>1</td>\n",
       "      <td>1</td>\n",
       "      <td>1</td>\n",
       "      <td>2</td>\n",
       "      <td>1</td>\n",
       "      <td>1</td>\n",
       "      <td>1</td>\n",
       "      <td>6</td>\n",
       "      <td>0</td>\n",
       "      <td>...</td>\n",
       "      <td>0</td>\n",
       "      <td>2788</td>\n",
       "      <td>0</td>\n",
       "      <td>1</td>\n",
       "      <td>0</td>\n",
       "      <td>0</td>\n",
       "      <td>0</td>\n",
       "      <td>0</td>\n",
       "      <td>1</td>\n",
       "      <td>0</td>\n",
       "    </tr>\n",
       "    <tr>\n",
       "      <th>3</th>\n",
       "      <td>26</td>\n",
       "      <td>2</td>\n",
       "      <td>2</td>\n",
       "      <td>2</td>\n",
       "      <td>2</td>\n",
       "      <td>0</td>\n",
       "      <td>2</td>\n",
       "      <td>1</td>\n",
       "      <td>6</td>\n",
       "      <td>0</td>\n",
       "      <td>...</td>\n",
       "      <td>0</td>\n",
       "      <td>5315</td>\n",
       "      <td>0</td>\n",
       "      <td>0</td>\n",
       "      <td>0</td>\n",
       "      <td>1</td>\n",
       "      <td>0</td>\n",
       "      <td>0</td>\n",
       "      <td>1</td>\n",
       "      <td>0</td>\n",
       "    </tr>\n",
       "    <tr>\n",
       "      <th>4</th>\n",
       "      <td>26</td>\n",
       "      <td>2</td>\n",
       "      <td>2</td>\n",
       "      <td>2</td>\n",
       "      <td>2</td>\n",
       "      <td>1</td>\n",
       "      <td>2</td>\n",
       "      <td>1</td>\n",
       "      <td>6</td>\n",
       "      <td>0</td>\n",
       "      <td>...</td>\n",
       "      <td>0</td>\n",
       "      <td>3601</td>\n",
       "      <td>0</td>\n",
       "      <td>0</td>\n",
       "      <td>0</td>\n",
       "      <td>1</td>\n",
       "      <td>0</td>\n",
       "      <td>0</td>\n",
       "      <td>1</td>\n",
       "      <td>0</td>\n",
       "    </tr>\n",
       "    <tr>\n",
       "      <th>...</th>\n",
       "      <td>...</td>\n",
       "      <td>...</td>\n",
       "      <td>...</td>\n",
       "      <td>...</td>\n",
       "      <td>...</td>\n",
       "      <td>...</td>\n",
       "      <td>...</td>\n",
       "      <td>...</td>\n",
       "      <td>...</td>\n",
       "      <td>...</td>\n",
       "      <td>...</td>\n",
       "      <td>...</td>\n",
       "      <td>...</td>\n",
       "      <td>...</td>\n",
       "      <td>...</td>\n",
       "      <td>...</td>\n",
       "      <td>...</td>\n",
       "      <td>...</td>\n",
       "      <td>...</td>\n",
       "      <td>...</td>\n",
       "      <td>...</td>\n",
       "    </tr>\n",
       "    <tr>\n",
       "      <th>318433</th>\n",
       "      <td>6</td>\n",
       "      <td>3</td>\n",
       "      <td>6</td>\n",
       "      <td>1</td>\n",
       "      <td>3</td>\n",
       "      <td>2</td>\n",
       "      <td>0</td>\n",
       "      <td>3</td>\n",
       "      <td>21</td>\n",
       "      <td>1</td>\n",
       "      <td>...</td>\n",
       "      <td>3</td>\n",
       "      <td>2187</td>\n",
       "      <td>0</td>\n",
       "      <td>0</td>\n",
       "      <td>0</td>\n",
       "      <td>1</td>\n",
       "      <td>0</td>\n",
       "      <td>1</td>\n",
       "      <td>0</td>\n",
       "      <td>0</td>\n",
       "    </tr>\n",
       "    <tr>\n",
       "      <th>318434</th>\n",
       "      <td>24</td>\n",
       "      <td>3</td>\n",
       "      <td>1</td>\n",
       "      <td>1</td>\n",
       "      <td>2</td>\n",
       "      <td>2</td>\n",
       "      <td>1</td>\n",
       "      <td>3</td>\n",
       "      <td>7</td>\n",
       "      <td>1</td>\n",
       "      <td>...</td>\n",
       "      <td>4</td>\n",
       "      <td>4742</td>\n",
       "      <td>0</td>\n",
       "      <td>1</td>\n",
       "      <td>0</td>\n",
       "      <td>0</td>\n",
       "      <td>0</td>\n",
       "      <td>0</td>\n",
       "      <td>0</td>\n",
       "      <td>1</td>\n",
       "    </tr>\n",
       "    <tr>\n",
       "      <th>318435</th>\n",
       "      <td>7</td>\n",
       "      <td>3</td>\n",
       "      <td>4</td>\n",
       "      <td>1</td>\n",
       "      <td>3</td>\n",
       "      <td>0</td>\n",
       "      <td>0</td>\n",
       "      <td>3</td>\n",
       "      <td>9</td>\n",
       "      <td>2</td>\n",
       "      <td>...</td>\n",
       "      <td>1</td>\n",
       "      <td>2278</td>\n",
       "      <td>0</td>\n",
       "      <td>0</td>\n",
       "      <td>1</td>\n",
       "      <td>0</td>\n",
       "      <td>0</td>\n",
       "      <td>1</td>\n",
       "      <td>0</td>\n",
       "      <td>0</td>\n",
       "    </tr>\n",
       "    <tr>\n",
       "      <th>318436</th>\n",
       "      <td>11</td>\n",
       "      <td>2</td>\n",
       "      <td>2</td>\n",
       "      <td>2</td>\n",
       "      <td>3</td>\n",
       "      <td>2</td>\n",
       "      <td>2</td>\n",
       "      <td>2</td>\n",
       "      <td>7</td>\n",
       "      <td>2</td>\n",
       "      <td>...</td>\n",
       "      <td>7</td>\n",
       "      <td>1804</td>\n",
       "      <td>0</td>\n",
       "      <td>1</td>\n",
       "      <td>0</td>\n",
       "      <td>0</td>\n",
       "      <td>0</td>\n",
       "      <td>0</td>\n",
       "      <td>1</td>\n",
       "      <td>0</td>\n",
       "    </tr>\n",
       "    <tr>\n",
       "      <th>318437</th>\n",
       "      <td>19</td>\n",
       "      <td>3</td>\n",
       "      <td>7</td>\n",
       "      <td>2</td>\n",
       "      <td>5</td>\n",
       "      <td>2</td>\n",
       "      <td>5</td>\n",
       "      <td>1</td>\n",
       "      <td>7</td>\n",
       "      <td>2</td>\n",
       "      <td>...</td>\n",
       "      <td>7</td>\n",
       "      <td>2795</td>\n",
       "      <td>0</td>\n",
       "      <td>0</td>\n",
       "      <td>1</td>\n",
       "      <td>0</td>\n",
       "      <td>0</td>\n",
       "      <td>1</td>\n",
       "      <td>0</td>\n",
       "      <td>0</td>\n",
       "    </tr>\n",
       "  </tbody>\n",
       "</table>\n",
       "<p>318438 rows × 21 columns</p>\n",
       "</div>"
      ],
      "text/plain": [
       "        Hospital_code  Hospital_type_code  City_Code_Hospital  \\\n",
       "0                   8                   0                   3   \n",
       "1                   2                   0                   5   \n",
       "2                  10                   1                   1   \n",
       "3                  26                   2                   2   \n",
       "4                  26                   2                   2   \n",
       "...               ...                 ...                 ...   \n",
       "318433              6                   3                   6   \n",
       "318434             24                   3                   1   \n",
       "318435              7                   3                   4   \n",
       "318436             11                   2                   2   \n",
       "318437             19                   3                   7   \n",
       "\n",
       "        Hospital_region_code  Available Extra Rooms in Hospital  Ward_Type  \\\n",
       "0                          0                                  3          0   \n",
       "1                          0                                  2          1   \n",
       "2                          1                                  2          1   \n",
       "3                          2                                  2          0   \n",
       "4                          2                                  2          1   \n",
       "...                      ...                                ...        ...   \n",
       "318433                     1                                  3          2   \n",
       "318434                     1                                  2          2   \n",
       "318435                     1                                  3          0   \n",
       "318436                     2                                  3          2   \n",
       "318437                     2                                  5          2   \n",
       "\n",
       "        Ward_Facility_Code  Bed Grade  City_Code_Patient  Severity of Illness  \\\n",
       "0                        0          1                  6                    0   \n",
       "1                        0          1                  6                    0   \n",
       "2                        1          1                  6                    0   \n",
       "3                        2          1                  6                    0   \n",
       "4                        2          1                  6                    0   \n",
       "...                    ...        ...                ...                  ...   \n",
       "318433                   0          3                 21                    1   \n",
       "318434                   1          3                  7                    1   \n",
       "318435                   0          3                  9                    2   \n",
       "318436                   2          2                  7                    2   \n",
       "318437                   5          1                  7                    2   \n",
       "\n",
       "        ...  Age  Admission_Deposit  Department_TB & Chest disease  \\\n",
       "0       ...    0               2954                              0   \n",
       "1       ...    0               3997                              0   \n",
       "2       ...    0               2788                              0   \n",
       "3       ...    0               5315                              0   \n",
       "4       ...    0               3601                              0   \n",
       "...     ...  ...                ...                            ...   \n",
       "318433  ...    3               2187                              0   \n",
       "318434  ...    4               4742                              0   \n",
       "318435  ...    1               2278                              0   \n",
       "318436  ...    7               1804                              0   \n",
       "318437  ...    7               2795                              0   \n",
       "\n",
       "        Department_anesthesia  Department_gynecology  Department_radiotherapy  \\\n",
       "0                           0                      0                        1   \n",
       "1                           0                      0                        1   \n",
       "2                           1                      0                        0   \n",
       "3                           0                      0                        1   \n",
       "4                           0                      0                        1   \n",
       "...                       ...                    ...                      ...   \n",
       "318433                      0                      0                        1   \n",
       "318434                      1                      0                        0   \n",
       "318435                      0                      1                        0   \n",
       "318436                      1                      0                        0   \n",
       "318437                      0                      1                        0   \n",
       "\n",
       "        Department_surgery  Admission_Emergency  Admission_Trauma  \\\n",
       "0                        0                    1                 0   \n",
       "1                        0                    0                 1   \n",
       "2                        0                    0                 1   \n",
       "3                        0                    0                 1   \n",
       "4                        0                    0                 1   \n",
       "...                    ...                  ...               ...   \n",
       "318433                   0                    1                 0   \n",
       "318434                   0                    0                 0   \n",
       "318435                   0                    1                 0   \n",
       "318436                   0                    0                 1   \n",
       "318437                   0                    1                 0   \n",
       "\n",
       "        Admission_Urgent  \n",
       "0                      0  \n",
       "1                      0  \n",
       "2                      0  \n",
       "3                      0  \n",
       "4                      0  \n",
       "...                  ...  \n",
       "318433                 0  \n",
       "318434                 1  \n",
       "318435                 0  \n",
       "318436                 0  \n",
       "318437                 0  \n",
       "\n",
       "[318438 rows x 21 columns]"
      ]
     },
     "execution_count": 12,
     "metadata": {},
     "output_type": "execute_result"
    }
   ],
   "source": [
    "X = df_train[features]\n",
    "y = df_train['Stay']\n",
    "X"
   ]
  },
  {
   "cell_type": "markdown",
   "metadata": {},
   "source": [
    "# KNN"
   ]
  },
  {
   "cell_type": "markdown",
   "metadata": {},
   "source": [
    "#### KNN by splitting the data:"
   ]
  },
  {
   "cell_type": "code",
   "execution_count": 13,
   "metadata": {},
   "outputs": [
    {
     "name": "stdout",
     "output_type": "stream",
     "text": [
      "27.752969180813846 %\n"
     ]
    }
   ],
   "source": [
    "X_train, X_test, y_train, y_test = train_test_split(X, y, test_size=0.50, random_state=10)\n",
    "\n",
    "newK = [22]\n",
    "for k in newK:\n",
    "    knn = KNeighborsClassifier(n_neighbors=k)\n",
    "    knn.fit(X_train, y_train)\n",
    "    y_predict = knn.predict(X_test)\n",
    "    accuracy = accuracy_score(y_test, y_predict)\n",
    "    print(accuracy*100,'%')"
   ]
  },
  {
   "cell_type": "code",
   "execution_count": 14,
   "metadata": {},
   "outputs": [
    {
     "name": "stdout",
     "output_type": "stream",
     "text": [
      "[[0.22727273 0.         0.         ... 0.         0.         0.        ]\n",
      " [0.04545455 0.04545455 0.09090909 ... 0.         0.         0.        ]\n",
      " [0.13636364 0.04545455 0.18181818 ... 0.         0.         0.        ]\n",
      " ...\n",
      " [0.04545455 0.         0.36363636 ... 0.         0.         0.        ]\n",
      " [0.04545455 0.09090909 0.09090909 ... 0.         0.         0.        ]\n",
      " [0.04545455 0.         0.18181818 ... 0.         0.         0.        ]]\n"
     ]
    }
   ],
   "source": [
    "y_predict_prob_knn = knn.predict_proba(X_test)\n",
    "\n",
    "print(y_predict_prob_knn)"
   ]
  },
  {
   "cell_type": "markdown",
   "metadata": {},
   "source": [
    "#### True Positive Rate (TPR) and False Positive Rate (FPR):"
   ]
  },
  {
   "cell_type": "code",
   "execution_count": 15,
   "metadata": {},
   "outputs": [
    {
     "name": "stdout",
     "output_type": "stream",
     "text": [
      "[0.00000000e+00 6.52124295e-06 1.43467345e-04 5.80390622e-04\n",
      " 2.93455933e-03 1.43467345e-02 6.34777789e-02 2.11170889e-01\n",
      " 5.49460367e-01 1.00000000e+00]\n",
      "[0.00000000e+00 0.00000000e+00 0.00000000e+00 8.51208716e-04\n",
      " 5.78821927e-03 2.55362615e-02 8.93769152e-02 2.79026217e-01\n",
      " 6.20701396e-01 1.00000000e+00]\n"
     ]
    }
   ],
   "source": [
    "fpr, tpr, thresholds = metrics.roc_curve(y_test, y_predict_prob_knn[:,1], pos_label=1)\n",
    "\n",
    "print(fpr)\n",
    "print(tpr)"
   ]
  },
  {
   "cell_type": "markdown",
   "metadata": {},
   "source": [
    "#### AUC"
   ]
  },
  {
   "cell_type": "code",
   "execution_count": 16,
   "metadata": {},
   "outputs": [
    {
     "name": "stdout",
     "output_type": "stream",
     "text": [
      "0.5474942440372343\n"
     ]
    }
   ],
   "source": [
    "# AUC:\n",
    "AUC = metrics.auc(fpr, tpr)\n",
    "print(AUC)"
   ]
  },
  {
   "cell_type": "markdown",
   "metadata": {},
   "source": [
    "#### ROC Curve"
   ]
  },
  {
   "cell_type": "code",
   "execution_count": 17,
   "metadata": {},
   "outputs": [
    {
     "data": {
      "image/png": "[encoded data removed]",
      "text/plain": [
       "<Figure size 432x288 with 1 Axes>"
      ]
     },
     "metadata": {
      "needs_background": "light"
     },
     "output_type": "display_data"
    }
   ],
   "source": [
    "# The following line will tell Jupyter Notebook to keep the figures inside the explorer page \n",
    "# rather than openng a new figure window:\n",
    "%matplotlib inline\n",
    "\n",
    "plt.figure()\n",
    "\n",
    "# Roc Curve:\n",
    "plt.plot(fpr, tpr, color='red', lw=2, \n",
    "         label='ROC Curve (area = %0.2f)' % AUC)\n",
    "\n",
    "# Random Guess line:\n",
    "plt.plot([0, 1], [0, 1], color='blue', lw=1, linestyle='--')\n",
    "\n",
    "# Defining The Range of X-Axis and Y-Axis:\n",
    "plt.xlim([-0.005, 1.005])\n",
    "plt.ylim([0.0, 1.01])\n",
    "\n",
    "# Labels, Title, Legend:\n",
    "plt.xlabel('False Positive Rate')\n",
    "plt.ylabel('True Positive Rate')\n",
    "plt.title('Receiver operating characteristic')\n",
    "plt.legend(loc=\"lower right\")\n",
    "\n",
    "plt.show()"
   ]
  },
  {
   "cell_type": "markdown",
   "metadata": {},
   "source": [
    "#### KNN using cross-validation:"
   ]
  },
  {
   "cell_type": "code",
   "execution_count": 18,
   "metadata": {},
   "outputs": [
    {
     "name": "stdout",
     "output_type": "stream",
     "text": [
      "28.47335627638905 %\n"
     ]
    }
   ],
   "source": [
    "X_train, X_test, y_train, y_test = train_test_split(X, y, test_size=0.50, random_state=10)\n",
    "\n",
    "k = 22\n",
    "my_knn = KNeighborsClassifier(n_neighbors=k)\n",
    "accuracy_list = cross_val_score(my_knn, X, y, cv=10, scoring='accuracy')\n",
    "\n",
    "accuracy = accuracy_list.mean()\n",
    "\n",
    "print(accuracy*100,'%')"
   ]
  },
  {
   "cell_type": "markdown",
   "metadata": {},
   "source": [
    "# Logistic Regression"
   ]
  },
  {
   "cell_type": "markdown",
   "metadata": {},
   "source": [
    "#### Logistic Regression by splitting the data:"
   ]
  },
  {
   "cell_type": "code",
   "execution_count": 19,
   "metadata": {},
   "outputs": [
    {
     "name": "stdout",
     "output_type": "stream",
     "text": [
      "36.36123829442466 %\n"
     ]
    },
    {
     "name": "stderr",
     "output_type": "stream",
     "text": [
      "C:\\Users\\ehern\\anaconda3\\lib\\site-packages\\sklearn\\linear_model\\_logistic.py:762: ConvergenceWarning: lbfgs failed to converge (status=1):\n",
      "STOP: TOTAL NO. of ITERATIONS REACHED LIMIT.\n",
      "\n",
      "Increase the number of iterations (max_iter) or scale the data as shown in:\n",
      "    https://scikit-learn.org/stable/modules/preprocessing.html\n",
      "Please also refer to the documentation for alternative solver options:\n",
      "    https://scikit-learn.org/stable/modules/linear_model.html#logistic-regression\n",
      "  n_iter_i = _check_optimize_result(\n"
     ]
    }
   ],
   "source": [
    "X_train, X_test, y_train, y_test = train_test_split(X, y, test_size=0.50, random_state=10)\n",
    "\n",
    "my_logreg = LogisticRegression(max_iter = 7000)\n",
    "my_logreg.fit(X_train, y_train)\n",
    "y_predict_lr = my_logreg.predict(X_test)\n",
    "accuracy = accuracy_score(y_test, y_predict_lr)\n",
    "\n",
    "print(accuracy*100,'%')"
   ]
  },
  {
   "cell_type": "code",
   "execution_count": 20,
   "metadata": {},
   "outputs": [
    {
     "name": "stdout",
     "output_type": "stream",
     "text": [
      "[[1.32652625e-01 4.36954770e-02 1.12488312e-01 ... 1.31594698e-02\n",
      "  1.12964774e-02 1.00792346e-02]\n",
      " [9.53872439e-03 2.84930894e-02 2.94409741e-01 ... 4.21838928e-02\n",
      "  1.00849432e-02 1.27273426e-02]\n",
      " [8.16996225e-02 3.81431300e-02 1.46256553e-01 ... 4.99530308e-03\n",
      "  5.00094104e-03 2.48488970e-03]\n",
      " ...\n",
      " [2.12477674e-01 1.70479542e-02 8.46186646e-02 ... 1.38465983e-03\n",
      "  2.33619021e-03 1.38588473e-03]\n",
      " [2.81048771e-03 2.29016219e-09 2.92445570e-03 ... 2.45559529e-08\n",
      "  3.62173516e-09 2.40996923e-09]\n",
      " [1.35436457e-01 2.93289446e-02 1.63591032e-01 ... 7.36694161e-03\n",
      "  6.16173365e-03 5.92746664e-03]]\n"
     ]
    }
   ],
   "source": [
    "y_predict_prob_lr = my_logreg.predict_proba(X_test)\n",
    "\n",
    "print(y_predict_prob_lr)"
   ]
  },
  {
   "cell_type": "markdown",
   "metadata": {},
   "source": [
    "#### True Positive Rate (TPR) and False Positive Rate (FPR):"
   ]
  },
  {
   "cell_type": "code",
   "execution_count": 21,
   "metadata": {},
   "outputs": [
    {
     "name": "stdout",
     "output_type": "stream",
     "text": [
      "[0.00000000e+00 6.52124295e-06 5.21699436e-05 ... 9.99915224e-01\n",
      " 9.99915224e-01 1.00000000e+00]\n",
      "[0.         0.         0.         ... 0.99982976 1.         1.        ]\n"
     ]
    }
   ],
   "source": [
    "fpr, tpr, thresholds = metrics.roc_curve(y_test, y_predict_prob_lr[:,1], pos_label=1)\n",
    "\n",
    "print(fpr)\n",
    "print(tpr)"
   ]
  },
  {
   "cell_type": "markdown",
   "metadata": {},
   "source": [
    "#### AUC:"
   ]
  },
  {
   "cell_type": "code",
   "execution_count": 22,
   "metadata": {},
   "outputs": [
    {
     "name": "stdout",
     "output_type": "stream",
     "text": [
      "0.5658980709077593\n"
     ]
    }
   ],
   "source": [
    "# AUC:\n",
    "AUC = metrics.auc(fpr, tpr)\n",
    "print(AUC)"
   ]
  },
  {
   "cell_type": "markdown",
   "metadata": {},
   "source": [
    "#### ROC Curve"
   ]
  },
  {
   "cell_type": "code",
   "execution_count": 23,
   "metadata": {},
   "outputs": [
    {
     "data": {
      "image/png": "[encoded data removed]",
      "text/plain": [
       "<Figure size 432x288 with 1 Axes>"
      ]
     },
     "metadata": {
      "needs_background": "light"
     },
     "output_type": "display_data"
    }
   ],
   "source": [
    "# The following line will tell Jupyter Notebook to keep the figures inside the explorer page \n",
    "# rather than openng a new figure window:\n",
    "%matplotlib inline\n",
    "\n",
    "plt.figure()\n",
    "\n",
    "# Roc Curve:\n",
    "plt.plot(fpr, tpr, color='red', lw=2, \n",
    "         label='ROC Curve (area = %0.2f)' % AUC)\n",
    "\n",
    "# Random Guess line:\n",
    "plt.plot([0, 1], [0, 1], color='blue', lw=1, linestyle='--')\n",
    "\n",
    "# Defining The Range of X-Axis and Y-Axis:\n",
    "plt.xlim([-0.005, 1.005])\n",
    "plt.ylim([0.0, 1.01])\n",
    "\n",
    "# Labels, Title, Legend:\n",
    "plt.xlabel('False Positive Rate')\n",
    "plt.ylabel('True Positive Rate')\n",
    "plt.title('Receiver operating characteristic')\n",
    "plt.legend(loc=\"lower right\")\n",
    "\n",
    "plt.show()"
   ]
  },
  {
   "cell_type": "markdown",
   "metadata": {},
   "source": [
    "# Linear Regression"
   ]
  },
  {
   "cell_type": "code",
   "execution_count": 24,
   "metadata": {
    "scrolled": true
   },
   "outputs": [
    {
     "name": "stdout",
     "output_type": "stream",
     "text": [
      "8.864395817016069 %\n"
     ]
    }
   ],
   "source": [
    "X_train, X_test, y_train, y_test = train_test_split(X, y, test_size=0.50, random_state=10)\n",
    "\n",
    "my_linreg = LinearRegression()\n",
    "my_linreg.fit(X_train, y_train)\n",
    "accuracy = my_linreg.score(X_test,y_test)\n",
    "\n",
    "print(accuracy*100,'%')"
   ]
  },
  {
   "cell_type": "code",
   "execution_count": 26,
   "metadata": {},
   "outputs": [
    {
     "name": "stdout",
     "output_type": "stream",
     "text": [
      "0.5658980709077593\n"
     ]
    }
   ],
   "source": [
    "# AUC:\n",
    "AUC = metrics.auc(fpr, tpr)\n",
    "print(AUC)"
   ]
  },
  {
   "cell_type": "code",
   "execution_count": 27,
   "metadata": {},
   "outputs": [
    {
     "data": {
      "text/html": [
       "<div>\n",
       "<style scoped>\n",
       "    .dataframe tbody tr th:only-of-type {\n",
       "        vertical-align: middle;\n",
       "    }\n",
       "\n",
       "    .dataframe tbody tr th {\n",
       "        vertical-align: top;\n",
       "    }\n",
       "\n",
       "    .dataframe thead th {\n",
       "        text-align: right;\n",
       "    }\n",
       "</style>\n",
       "<table border=\"1\" class=\"dataframe\">\n",
       "  <thead>\n",
       "    <tr style=\"text-align: right;\">\n",
       "      <th></th>\n",
       "      <th>Actual</th>\n",
       "      <th>Predicted</th>\n",
       "    </tr>\n",
       "  </thead>\n",
       "  <tbody>\n",
       "    <tr>\n",
       "      <th>304486</th>\n",
       "      <td>0</td>\n",
       "      <td>2.726924</td>\n",
       "    </tr>\n",
       "    <tr>\n",
       "      <th>315372</th>\n",
       "      <td>6</td>\n",
       "      <td>4.557171</td>\n",
       "    </tr>\n",
       "    <tr>\n",
       "      <th>158271</th>\n",
       "      <td>3</td>\n",
       "      <td>3.274910</td>\n",
       "    </tr>\n",
       "    <tr>\n",
       "      <th>3608</th>\n",
       "      <td>10</td>\n",
       "      <td>4.034682</td>\n",
       "    </tr>\n",
       "    <tr>\n",
       "      <th>13536</th>\n",
       "      <td>5</td>\n",
       "      <td>3.310354</td>\n",
       "    </tr>\n",
       "    <tr>\n",
       "      <th>...</th>\n",
       "      <td>...</td>\n",
       "      <td>...</td>\n",
       "    </tr>\n",
       "    <tr>\n",
       "      <th>37477</th>\n",
       "      <td>5</td>\n",
       "      <td>3.382429</td>\n",
       "    </tr>\n",
       "    <tr>\n",
       "      <th>202675</th>\n",
       "      <td>2</td>\n",
       "      <td>4.422520</td>\n",
       "    </tr>\n",
       "    <tr>\n",
       "      <th>204564</th>\n",
       "      <td>3</td>\n",
       "      <td>2.507451</td>\n",
       "    </tr>\n",
       "    <tr>\n",
       "      <th>112491</th>\n",
       "      <td>7</td>\n",
       "      <td>1.382902</td>\n",
       "    </tr>\n",
       "    <tr>\n",
       "      <th>12815</th>\n",
       "      <td>5</td>\n",
       "      <td>3.300190</td>\n",
       "    </tr>\n",
       "  </tbody>\n",
       "</table>\n",
       "<p>159219 rows × 2 columns</p>\n",
       "</div>"
      ],
      "text/plain": [
       "        Actual  Predicted\n",
       "304486       0   2.726924\n",
       "315372       6   4.557171\n",
       "158271       3   3.274910\n",
       "3608        10   4.034682\n",
       "13536        5   3.310354\n",
       "...        ...        ...\n",
       "37477        5   3.382429\n",
       "202675       2   4.422520\n",
       "204564       3   2.507451\n",
       "112491       7   1.382902\n",
       "12815        5   3.300190\n",
       "\n",
       "[159219 rows x 2 columns]"
      ]
     },
     "execution_count": 27,
     "metadata": {},
     "output_type": "execute_result"
    }
   ],
   "source": [
    "my_linreg = LinearRegression()\n",
    "my_linreg.fit(X_train, y_train)\n",
    "y_pred = my_linreg.predict(X_test)\n",
    "\n",
    "df = pd.DataFrame({'Actual': y_test, 'Predicted': y_pred})\n",
    "df"
   ]
  },
  {
   "cell_type": "code",
   "execution_count": 28,
   "metadata": {},
   "outputs": [
    {
     "name": "stdout",
     "output_type": "stream",
     "text": [
      "[-3.20947585 -3.21920032 -3.28317066 -3.38592368 -3.29505285 -3.24762162\n",
      " -3.316233   -3.36786307 -3.35255226 -3.34740042]\n",
      "\n",
      "[1.791501   1.79421301 1.81195217 1.84008795 1.81522804 1.80211587\n",
      " 1.82105272 1.83517385 1.83099761 1.82959023]\n",
      "\n",
      "1.8171912467072873\n"
     ]
    }
   ],
   "source": [
    "X_train, X_test, y_train, y_test = train_test_split(X, y, test_size=0.50, random_state=10)\n",
    "\n",
    "my_linreg = LinearRegression()\n",
    "\n",
    "mse_list = cross_val_score(my_linreg, X, y, cv=10, scoring='neg_mean_squared_error')\n",
    "\n",
    "print(mse_list)\n",
    "print()\n",
    "\n",
    "mse_list_positive = -mse_list\n",
    "\n",
    "# using numpy sqrt function to calculate rmse:\n",
    "rmse_list = np.sqrt(mse_list_positive)\n",
    "print(rmse_list)\n",
    "print()\n",
    "\n",
    "print(rmse_list.mean())"
   ]
  },
  {
   "cell_type": "markdown",
   "metadata": {},
   "source": [
    "# Decision Tree"
   ]
  },
  {
   "cell_type": "markdown",
   "metadata": {},
   "source": [
    "#### Decision Tree by splitting the data"
   ]
  },
  {
   "cell_type": "code",
   "execution_count": 29,
   "metadata": {},
   "outputs": [
    {
     "name": "stdout",
     "output_type": "stream",
     "text": [
      "29.251534050584414 %\n"
     ]
    }
   ],
   "source": [
    "X_train, X_test, y_train, y_test = train_test_split(X, y, test_size=0.50, random_state=10)\n",
    "\n",
    "my_decisiontree = DecisionTreeClassifier()\n",
    "my_decisiontree.fit(X_train, y_train)\n",
    "y_predict = my_decisiontree.predict(X_test)\n",
    "accuracy = accuracy_score(y_test, y_predict)\n",
    "\n",
    "print(accuracy*100,'%')"
   ]
  },
  {
   "cell_type": "code",
   "execution_count": 30,
   "metadata": {},
   "outputs": [
    {
     "name": "stdout",
     "output_type": "stream",
     "text": [
      "[[0. 0. 0. ... 0. 0. 0.]\n",
      " [0. 0. 0. ... 1. 0. 0.]\n",
      " [0. 0. 0. ... 0. 0. 0.]\n",
      " ...\n",
      " [0. 0. 0. ... 0. 0. 0.]\n",
      " [0. 0. 0. ... 0. 0. 0.]\n",
      " [1. 0. 0. ... 0. 0. 0.]]\n"
     ]
    }
   ],
   "source": [
    "y_predict_prob_dt = my_decisiontree.predict_proba(X_test)\n",
    "\n",
    "print(y_predict_prob_dt)"
   ]
  },
  {
   "cell_type": "markdown",
   "metadata": {},
   "source": [
    "#### True Positive Rate (TPR) and False Positive Rate (FPR):"
   ]
  },
  {
   "cell_type": "code",
   "execution_count": 31,
   "metadata": {},
   "outputs": [
    {
     "name": "stdout",
     "output_type": "stream",
     "text": [
      "[0.         0.03825361 0.03826013 1.        ]\n",
      "[0.         0.06996936 0.06996936 1.        ]\n"
     ]
    }
   ],
   "source": [
    "fpr, tpr, thresholds = metrics.roc_curve(y_test, y_predict_prob_dt[:,1], pos_label=1)\n",
    "\n",
    "print(fpr)\n",
    "print(tpr)"
   ]
  },
  {
   "cell_type": "markdown",
   "metadata": {},
   "source": [
    "#### AUC"
   ]
  },
  {
   "cell_type": "code",
   "execution_count": 32,
   "metadata": {},
   "outputs": [
    {
     "name": "stdout",
     "output_type": "stream",
     "text": [
      "0.5158548401960756\n"
     ]
    }
   ],
   "source": [
    "# AUC:\n",
    "AUC = metrics.auc(fpr, tpr)\n",
    "print(AUC)"
   ]
  },
  {
   "cell_type": "markdown",
   "metadata": {},
   "source": [
    "#### ROC Curve"
   ]
  },
  {
   "cell_type": "code",
   "execution_count": 33,
   "metadata": {},
   "outputs": [
    {
     "data": {
      "image/png": "[encoded data removed]",
      "text/plain": [
       "<Figure size 432x288 with 1 Axes>"
      ]
     },
     "metadata": {
      "needs_background": "light"
     },
     "output_type": "display_data"
    }
   ],
   "source": [
    "# The following line will tell Jupyter Notebook to keep the figures inside the explorer page \n",
    "# rather than openng a new figure window:\n",
    "%matplotlib inline\n",
    "\n",
    "plt.figure()\n",
    "\n",
    "# Roc Curve:\n",
    "plt.plot(fpr, tpr, color='red', lw=2, \n",
    "         label='ROC Curve (area = %0.2f)' % AUC)\n",
    "\n",
    "# Random Guess line:\n",
    "plt.plot([0, 1], [0, 1], color='blue', lw=1, linestyle='--')\n",
    "\n",
    "# Defining The Range of X-Axis and Y-Axis:\n",
    "plt.xlim([-0.005, 1.005])\n",
    "plt.ylim([0.0, 1.01])\n",
    "\n",
    "# Labels, Title, Legend:\n",
    "plt.xlabel('False Positive Rate')\n",
    "plt.ylabel('True Positive Rate')\n",
    "plt.title('Receiver operating characteristic')\n",
    "plt.legend(loc=\"lower right\")\n",
    "\n",
    "plt.show()"
   ]
  },
  {
   "cell_type": "markdown",
   "metadata": {},
   "source": [
    "#### Decision Tree using cross-validation"
   ]
  },
  {
   "cell_type": "code",
   "execution_count": 34,
   "metadata": {},
   "outputs": [
    {
     "name": "stdout",
     "output_type": "stream",
     "text": [
      "28.88348107640898 %\n"
     ]
    }
   ],
   "source": [
    "X_train, X_test, y_train, y_test = train_test_split(X, y, test_size=0.50, random_state=10)\n",
    "\n",
    "my_decisiontree = DecisionTreeClassifier()\n",
    "accuracy_list = cross_val_score(my_decisiontree, X, y, cv=10, scoring='accuracy')\n",
    "accuracy = accuracy_list.mean()\n",
    "\n",
    "print(accuracy*100,'%')"
   ]
  },
  {
   "cell_type": "markdown",
   "metadata": {},
   "source": [
    "# Random Forest"
   ]
  },
  {
   "cell_type": "markdown",
   "metadata": {},
   "source": [
    "#### Random Forest by splitting the data:"
   ]
  },
  {
   "cell_type": "code",
   "execution_count": 35,
   "metadata": {},
   "outputs": [
    {
     "name": "stdout",
     "output_type": "stream",
     "text": [
      "37.62867496969583 %\n"
     ]
    }
   ],
   "source": [
    "X_train, X_test, y_train, y_test = train_test_split(X, y, test_size=0.50, random_state=10)\n",
    "\n",
    "rand_forest = RandomForestClassifier(n_estimators=100, bootstrap = True)\n",
    "rand_forest.fit(X_train, y_train)\n",
    "y_predict = rand_forest.predict(X_test)\n",
    "accuracy = accuracy_score(y_test, y_predict)\n",
    "\n",
    "print(accuracy*100,'%')"
   ]
  },
  {
   "cell_type": "code",
   "execution_count": 36,
   "metadata": {},
   "outputs": [
    {
     "name": "stdout",
     "output_type": "stream",
     "text": [
      "[[0.24 0.02 0.12 ... 0.   0.   0.  ]\n",
      " [0.   0.   0.1  ... 0.06 0.02 0.05]\n",
      " [0.24 0.   0.16 ... 0.   0.   0.  ]\n",
      " ...\n",
      " [0.04 0.   0.   ... 0.   0.   0.  ]\n",
      " [0.03 0.02 0.16 ... 0.   0.03 0.09]\n",
      " [0.13 0.06 0.25 ... 0.03 0.   0.  ]]\n"
     ]
    }
   ],
   "source": [
    "y_predict_prob_rf = rand_forest.predict_proba(X_test)\n",
    "\n",
    "print(y_predict_prob_rf)"
   ]
  },
  {
   "cell_type": "markdown",
   "metadata": {},
   "source": [
    "#### True Positive Rate (TPR) and False Positive Rate (FPR):"
   ]
  },
  {
   "cell_type": "code",
   "execution_count": 37,
   "metadata": {},
   "outputs": [
    {
     "name": "stdout",
     "output_type": "stream",
     "text": [
      "[0.00000000e+00 6.52124295e-06 3.91274577e-05 5.86911865e-05\n",
      " 6.52124295e-05 9.12974013e-05 1.23903616e-04 2.15201017e-04\n",
      " 2.67370961e-04 3.19540904e-04 3.97795820e-04 4.43444521e-04\n",
      " 5.21699436e-04 5.99954351e-04 6.97772996e-04 8.21676612e-04\n",
      " 9.32537742e-04 1.04339887e-03 1.12165379e-03 1.23251492e-03\n",
      " 1.35641853e-03 1.43467345e-03 1.57161955e-03 1.74117187e-03\n",
      " 1.91072418e-03 2.11288272e-03 2.24982882e-03 2.42590238e-03\n",
      " 2.66066712e-03 2.88891063e-03 3.08454791e-03 3.37800385e-03\n",
      " 3.55407741e-03 3.87361831e-03 4.20620170e-03 4.46053018e-03\n",
      " 4.81267730e-03 5.13873944e-03 5.14526069e-03 5.68000261e-03\n",
      " 6.17561707e-03 6.64514656e-03 7.13423979e-03 7.81897030e-03\n",
      " 7.82549154e-03 8.58847696e-03 9.34494115e-03 1.02253089e-02\n",
      " 1.02318302e-02 1.12426228e-02 1.12491441e-02 1.23055854e-02\n",
      " 1.35641853e-02 1.48814764e-02 1.64400535e-02 1.82464378e-02\n",
      " 1.82594803e-02 2.02615018e-02 2.25048094e-02 2.25113307e-02\n",
      " 2.51915615e-02 2.51915615e-02 2.82304607e-02 2.82369820e-02\n",
      " 3.17454107e-02 3.17584532e-02 3.58407512e-02 3.58472725e-02\n",
      " 3.58537937e-02 3.58603150e-02 4.08099384e-02 4.08164596e-02\n",
      " 4.61051876e-02 4.61312726e-02 5.28872803e-02 5.29003228e-02\n",
      " 6.10779615e-02 6.11105677e-02 7.12902279e-02 7.12967492e-02\n",
      " 8.29110829e-02 8.29306466e-02 9.77208256e-02 9.77338681e-02\n",
      " 9.77403893e-02 1.15484691e-01 1.15491213e-01 1.15497734e-01\n",
      " 1.38126447e-01 1.38132968e-01 1.38139489e-01 1.38146011e-01\n",
      " 1.67732890e-01 1.67752454e-01 1.67765496e-01 2.06625583e-01\n",
      " 2.06638625e-01 2.06658189e-01 2.58371646e-01 2.58371646e-01\n",
      " 2.58391209e-01 2.58417294e-01 2.58417294e-01 2.58430337e-01\n",
      " 2.58449901e-01 2.58462943e-01 3.27333790e-01 3.27333790e-01\n",
      " 3.27346832e-01 3.27346832e-01 3.27372917e-01 3.27379439e-01\n",
      " 4.20620170e-01 4.20626691e-01 4.20626691e-01 4.20646255e-01\n",
      " 4.20685383e-01 4.20691904e-01 4.20704946e-01 4.20717989e-01\n",
      " 5.52218853e-01 5.52238417e-01 5.52244938e-01 5.52257980e-01\n",
      " 5.52264502e-01 5.52316672e-01 5.52323193e-01 5.52336235e-01\n",
      " 5.52342757e-01 7.34748443e-01 7.34761486e-01 7.34813655e-01\n",
      " 7.34820177e-01 1.00000000e+00]\n",
      "[0.00000000e+00 0.00000000e+00 0.00000000e+00 1.70241743e-04\n",
      " 1.70241743e-04 1.70241743e-04 5.10725230e-04 5.10725230e-04\n",
      " 6.80966973e-04 1.02145046e-03 1.19169220e-03 1.36193395e-03\n",
      " 1.70241743e-03 2.21314266e-03 2.38338441e-03 2.55362615e-03\n",
      " 3.40483487e-03 3.74531835e-03 3.91556010e-03 3.91556010e-03\n",
      " 4.08580184e-03 4.25604358e-03 4.59652707e-03 4.93701055e-03\n",
      " 5.61797753e-03 5.95846101e-03 6.12870276e-03 6.63942799e-03\n",
      " 6.80966973e-03 7.83112019e-03 8.17160368e-03 8.85257065e-03\n",
      " 9.53353762e-03 9.87402111e-03 1.07252298e-02 1.17466803e-02\n",
      " 1.27681307e-02 1.37895812e-02 1.37895812e-02 1.48110317e-02\n",
      " 1.58324821e-02 1.70241743e-02 1.82158665e-02 1.94075587e-02\n",
      " 1.94075587e-02 2.16207014e-02 2.31528771e-02 2.48552945e-02\n",
      " 2.48552945e-02 2.68981954e-02 2.68981954e-02 3.04732720e-02\n",
      " 3.21756895e-02 3.47293156e-02 3.89853592e-02 4.22199523e-02\n",
      " 4.22199523e-02 4.57950289e-02 4.91998638e-02 4.91998638e-02\n",
      " 5.19237317e-02 5.20939734e-02 5.73714675e-02 5.73714675e-02\n",
      " 6.53728294e-02 6.53728294e-02 7.16717739e-02 7.16717739e-02\n",
      " 7.18420157e-02 7.18420157e-02 8.15457950e-02 8.15457950e-02\n",
      " 9.22710249e-02 9.22710249e-02 1.03166496e-01 1.03166496e-01\n",
      " 1.18998979e-01 1.18998979e-01 1.34831461e-01 1.34831461e-01\n",
      " 1.55600953e-01 1.55600953e-01 1.80456248e-01 1.80626490e-01\n",
      " 1.80626490e-01 2.14845080e-01 2.14845080e-01 2.15015322e-01\n",
      " 2.47701736e-01 2.47701736e-01 2.47871978e-01 2.47871978e-01\n",
      " 2.96561117e-01 2.96561117e-01 2.96561117e-01 3.50527749e-01\n",
      " 3.50527749e-01 3.50527749e-01 4.19816139e-01 4.19986381e-01\n",
      " 4.19986381e-01 4.19986381e-01 4.20156622e-01 4.20156622e-01\n",
      " 4.20156622e-01 4.20156622e-01 4.99829758e-01 5.00000000e-01\n",
      " 5.00000000e-01 5.00170242e-01 5.00170242e-01 5.00170242e-01\n",
      " 6.01974804e-01 6.02145046e-01 6.02315288e-01 6.02315288e-01\n",
      " 6.02315288e-01 6.02315288e-01 6.02315288e-01 6.02315288e-01\n",
      " 7.23186925e-01 7.23186925e-01 7.23186925e-01 7.23186925e-01\n",
      " 7.23186925e-01 7.23186925e-01 7.23186925e-01 7.23186925e-01\n",
      " 7.23186925e-01 8.63806605e-01 8.63806605e-01 8.64147089e-01\n",
      " 8.64147089e-01 1.00000000e+00]\n"
     ]
    }
   ],
   "source": [
    "fpr, tpr, thresholds = metrics.roc_curve(y_test, y_predict_prob_rf[:,1], pos_label=1)\n",
    "\n",
    "print(fpr)\n",
    "print(tpr)"
   ]
  },
  {
   "cell_type": "markdown",
   "metadata": {},
   "source": [
    "#### AUC"
   ]
  },
  {
   "cell_type": "code",
   "execution_count": 38,
   "metadata": {},
   "outputs": [
    {
     "name": "stdout",
     "output_type": "stream",
     "text": [
      "0.6209977639375109\n"
     ]
    }
   ],
   "source": [
    "# AUC:\n",
    "AUC = metrics.auc(fpr, tpr)\n",
    "print(AUC)"
   ]
  },
  {
   "cell_type": "markdown",
   "metadata": {},
   "source": [
    "#### ROC Curve"
   ]
  },
  {
   "cell_type": "code",
   "execution_count": 39,
   "metadata": {},
   "outputs": [
    {
     "data": {
      "image/png": "[encoded data removed]",
      "text/plain": [
       "<Figure size 432x288 with 1 Axes>"
      ]
     },
     "metadata": {
      "needs_background": "light"
     },
     "output_type": "display_data"
    }
   ],
   "source": [
    "# The following line will tell Jupyter Notebook to keep the figures inside the explorer page \n",
    "# rather than openng a new figure window:\n",
    "%matplotlib inline\n",
    "\n",
    "plt.figure()\n",
    "\n",
    "# Roc Curve:\n",
    "plt.plot(fpr, tpr, color='red', lw=2, \n",
    "         label='ROC Curve (area = %0.2f)' % AUC)\n",
    "\n",
    "# Random Guess line:\n",
    "plt.plot([0, 1], [0, 1], color='blue', lw=1, linestyle='--')\n",
    "\n",
    "# Defining The Range of X-Axis and Y-Axis:\n",
    "plt.xlim([-0.005, 1.005])\n",
    "plt.ylim([0.0, 1.01])\n",
    "\n",
    "# Labels, Title, Legend:\n",
    "plt.xlabel('False Positive Rate')\n",
    "plt.ylabel('True Positive Rate')\n",
    "plt.title('Receiver operating characteristic')\n",
    "plt.legend(loc=\"lower right\")\n",
    "\n",
    "plt.show()"
   ]
  },
  {
   "cell_type": "markdown",
   "metadata": {},
   "source": [
    "#### Random Forest using cross-validation:"
   ]
  },
  {
   "cell_type": "code",
   "execution_count": 40,
   "metadata": {},
   "outputs": [
    {
     "name": "stdout",
     "output_type": "stream",
     "text": [
      "37.62867496969583 %\n"
     ]
    }
   ],
   "source": [
    "X_train, X_test, y_train, y_test = train_test_split(X, y, test_size=0.50, random_state=10)\n",
    "\n",
    "\n",
    "rand_forest = RandomForestClassifier(n_estimators=100, bootstrap = True)\n",
    "accuracy_list = cross_val_score(rand_forest, X, y, cv=10, scoring='accuracy')\n",
    "accuracy_cv = accuracy_list.mean()\n",
    "\n",
    "print(accuracy*100,'%')"
   ]
  },
  {
   "cell_type": "markdown",
   "metadata": {},
   "source": [
    "# Matplot"
   ]
  },
  {
   "cell_type": "code",
   "execution_count": 41,
   "metadata": {},
   "outputs": [
    {
     "data": {
      "text/plain": [
       "<function matplotlib.pyplot.show(*args, **kw)>"
      ]
     },
     "execution_count": 41,
     "metadata": {},
     "output_type": "execute_result"
    },
    {
     "data": {
      "image/png": "[encoded data removed]",
      "text/plain": [
       "<Figure size 432x288 with 1 Axes>"
      ]
     },
     "metadata": {
      "needs_background": "light"
     },
     "output_type": "display_data"
    }
   ],
   "source": [
    "%matplotlib inline\n",
    "\n",
    "features = features = ['Age','Stay']\n",
    "\n",
    "X = df_train[features]\n",
    "\n",
    "# Clustering:\n",
    "my_KMeans = KMeans(n_clusters=3)\n",
    "my_KMeans.fit(X)\n",
    "\n",
    "# Assigned Labels after clustering: \n",
    "labels = my_KMeans.labels_\n",
    "\n",
    "# Centers of the clusters:\n",
    "centers = my_KMeans.cluster_centers_\n",
    "\n",
    "# Plotting the results:\n",
    "plt.figure\n",
    "\n",
    "for l, c in zip([0,1,2], ['red', 'blue', 'green']):\n",
    "    \n",
    "    current_members = (labels == l)\n",
    "    current_center = centers[l]\n",
    "    \n",
    "    plt.scatter(X.iloc[current_members,0], X.iloc[current_members,1], color = c, marker='x')\n",
    "    \n",
    "    plt.plot(current_center[0], current_center[1], 'o', markerfacecolor = c,\n",
    "            markeredgecolor = 'k', markersize=7)\n",
    "\n",
    "# Defining The Range of X-Axis and Y-Axis:\n",
    "plt.xlim([-2, 12])\n",
    "plt.ylim([-2, 12])\n",
    "\n",
    "# Labels, Title, Legend:\n",
    "plt.xlabel('Age')\n",
    "plt.ylabel('Stay')\n",
    "plt.title('KMeans for dataset')\n",
    "\n",
    "plt.show"
   ]
  },
  {
   "cell_type": "code",
   "execution_count": null,
   "metadata": {},
   "outputs": [],
   "source": []
  }
 ],
 "metadata": {
  "anaconda-cloud": {},
  "kernelspec": {
   "display_name": "Python 3",
   "language": "python",
   "name": "python3"
  },
  "language_info": {
   "codemirror_mode": {
    "name": "ipython",
    "version": 3
   },
   "file_extension": ".py",
   "mimetype": "text/x-python",
   "name": "python",
   "nbconvert_exporter": "python",
   "pygments_lexer": "ipython3",
   "version": "3.8.3"
  }
 },
 "nbformat": 4,
 "nbformat_minor": 1
}
